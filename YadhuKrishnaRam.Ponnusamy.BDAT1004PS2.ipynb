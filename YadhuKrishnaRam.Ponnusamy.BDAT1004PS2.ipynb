{
 "cells": [
  {
   "cell_type": "code",
   "execution_count": null,
   "id": "567d91a0-9fd2-452e-91d7-2d35efa38d2a",
   "metadata": {},
   "outputs": [],
   "source": [
    "Question 1"
   ]
  },
  {
   "cell_type": "code",
   "execution_count": null,
   "id": "7ffee4dc-321f-41a6-af45-c6031fa919c5",
   "metadata": {},
   "outputs": [],
   "source": [
    "Consider the following Python module:\n",
    "a = 0 \n",
    "def b():\n",
    "   global a\n",
    "   a = c(a)\n",
    "def c(a):\n",
    "   return a + 2\n",
    "After importing the module into the interpreter, you execute:\n",
    ">>> b()\n",
    ">>> b()\n",
    ">>> b()\n",
    ">>> a\n",
    "?\n",
    "What value is displayed when the last expression (a) is evaluated? Explain your answer by indicating what happens in every executed statement."
   ]
  },
  {
   "cell_type": "code",
   "execution_count": 9,
   "id": "1e57a0d6-470b-4527-aa04-bfa0dd06e0c8",
   "metadata": {},
   "outputs": [
    {
     "name": "stdout",
     "output_type": "stream",
     "text": [
      "6\n"
     ]
    }
   ],
   "source": [
    "a = 0 # initialiazing a = 0\n",
    "def b():\n",
    "    global a\n",
    "    a = c(a) # a is updated by c(a)\n",
    "def c(a):\n",
    "    return a + 2 \n",
    "\n",
    "b()\n",
    "b()\n",
    "b()\n",
    "print(a)\n",
    "\n"
   ]
  },
  {
   "cell_type": "code",
   "execution_count": null,
   "id": "9ed2102a-e3ca-42c4-a1b8-1b738d46fca4",
   "metadata": {},
   "outputs": [],
   "source": [
    "ANSWER :\n",
    "The last expression (a) is evaluated to 6.\n",
    "    \n",
    ">>> b() --> When b() is called for the first time , the global variable 'a' is modified.The value of a is given by c(a) which is a+2.\n",
    "   Initially a=0.Then it is evaluated using a+2,which is 2.So , a=2 when b() is called for the first time.\n",
    "    \n",
    ">>> b() --> Then again b() is called for the second time.Now , a is 2.c(2) returns 2 + 2 = 4.Now , a is updated to 4.\n",
    "                                    \n",
    ">>> b() --> Then b() is called for the third time [a is 4 now] c(4) returns 4 + 2 = 6.Now , a is updated to 6 .\n",
    "                              \n",
    ">>> a -->The final value of a=6 after b() being called three times.\n",
    "To summarize,\n",
    "Initial value of a is 0.\n",
    "After first call to b(), a becomes 2.\n",
    "After second call to b(), a becomes 4.\n",
    "After third call to b(), a becomes 6.\n",
    "\n",
    "Final value of a becomes 6.                             \n",
    "                             "
   ]
  },
  {
   "cell_type": "code",
   "execution_count": null,
   "id": "1a4b97c2-03c4-4765-bc3f-f50086054700",
   "metadata": {},
   "outputs": [],
   "source": [
    "Question 2"
   ]
  },
  {
   "cell_type": "code",
   "execution_count": null,
   "id": "2417cdc5-4c51-4db4-b866-2acdf263c109",
   "metadata": {},
   "outputs": [],
   "source": [
    "Function fileLength(), given to you, takes the name of a file as input and returns the length of the file:\n",
    ">>> fileLength('midterm.py') 284\n",
    ">>> fileLength('idterm.py') Traceback (most recent call last):\n",
    "File \"<pyshell#34>\", line 1, in <module> fileLength('idterm.py')\n",
    "File \"/Users/me/midterm.py\", line 3, in fileLength infile = open(filename)\n",
    "FileNotFoundError: [Errno 2] No such file or directory: 'idterm.py'\n",
    "As shown above, if the file cannot be found by the interpreter or if it cannot be read as a text file, an exception will be raised. Modify function fileLength() so that a friendly message is printed instead:\n",
    ">>> fileLength('midterm.py') 358\n",
    ">>> fileLength('idterm.py') File idterm.py not found."
   ]
  },
  {
   "cell_type": "code",
   "execution_count": 47,
   "id": "b6a13139-daf4-4410-8783-a648dd957446",
   "metadata": {},
   "outputs": [
    {
     "name": "stdout",
     "output_type": "stream",
     "text": [
      "358\n",
      "File idterm.py not found.\n"
     ]
    }
   ],
   "source": [
    "def fileLength(filename):\n",
    "    try:\n",
    "        file = open(filename, 'r')\n",
    "        contents = file.read()\n",
    "        file.close()\n",
    "        return len(contents)\n",
    "    except FileNotFoundError:\n",
    "        return f\"File {filename} not found.\"\n",
    "\n",
    "# Creation of  a sample file named 'midterm.py' with 358 characters\n",
    "with open('midterm.py', 'w') as file:\n",
    "    file.write('y' * 358)\n",
    "\n",
    "\n",
    "print(fileLength('midterm.py'))  \n",
    "print(fileLength('idterm.py'))    \n"
   ]
  },
  {
   "cell_type": "code",
   "execution_count": null,
   "id": "eb5f3f8e-a80f-482b-b93d-3d48604bdcc9",
   "metadata": {},
   "outputs": [],
   "source": [
    "Question 3"
   ]
  },
  {
   "cell_type": "code",
   "execution_count": null,
   "id": "b114aa05-35fd-4d0c-b5ee-324a1caf3037",
   "metadata": {},
   "outputs": [],
   "source": [
    "Write a class named Marsupial that can be used as shown below:\n",
    ">>> m = Marsupial()\n",
    ">>> m.put_in_pouch('doll')\n",
    ">>> m.put_in_pouch('firetruck')\n",
    ">>> m.put_in_pouch('kitten')\n",
    ">>> m.pouch_contents() ['doll', 'firetruck', 'kitten']\n",
    "Now write a class named Kangaroo as a subclass of Marsupial that inherits all the attributes of Marsupial and also:\n",
    "a. extends the Marsupial __init__ constructor to take, as input, the\n",
    "coordinates x and y of the Kangaroo object,\n",
    "b. supports method jump that takes number values dx and dy as input and moves the kangaroo by dx units along the x-axis and by dy units along the y- axis, and\n",
    "c. overloads the __str__ operator so it behaves as shown below.\n",
    ">>> k = Kangaroo(0,0)\n",
    ">>> print(k)\n",
    "I am a Kangaroo located at coordinates (0,0)\n",
    ">>> k.put_in_pouch('doll')\n",
    ">>> k.put_in_pouch('firetruck')\n",
    ">>> k.put_in_pouch('kitten')\n",
    ">>> k.pouch_contents() ['doll', 'firetruck', 'kitten']\n",
    ">>> k.jump(1,0)\n",
    ">>> k.jump(1,0)\n",
    ">>> k.jump(1,0)\n",
    ">>> print(k)\n",
    "I am a Kangaroo located at coordinates (3,0)"
   ]
  },
  {
   "cell_type": "code",
   "execution_count": 17,
   "id": "735166f7-9d6d-45ae-b6b6-e2dd12aa5d38",
   "metadata": {},
   "outputs": [
    {
     "name": "stdout",
     "output_type": "stream",
     "text": [
      "['doll', 'firetruck', 'kitten']\n",
      "I am a Kangaroo located at coordinates (0,0)\n",
      "['doll', 'firetruck', 'kitten']\n",
      "I am a Kangaroo located at coordinates (3,0)\n"
     ]
    }
   ],
   "source": [
    "#  Marsupial class\n",
    "class Marsupial:\n",
    "    def __init__(self):\n",
    "        self.pouch = []\n",
    "    def put_in_pouch(self, item):\n",
    "        self.pouch.append(item)\n",
    "    def pouch_contents(self):\n",
    "        # Returning the list of pouch contents\n",
    "        return self.pouch\n",
    "\n",
    "# Defining the Kangaroo class as a subclass of Marsupial\n",
    "class Kangaroo(Marsupial):\n",
    "    def __init__(self, x, y):\n",
    "         super().__init__()\n",
    "         self.x = x\n",
    "         self.y = y\n",
    "    def jump(self, dx, dy):\n",
    "        self.x += dx\n",
    "        self.y += dy\n",
    "    def __str__(self):\n",
    "        # Returning a string representation of the kangaroo's location\n",
    "        return f\"I am a Kangaroo located at coordinates ({self.x},{self.y})\"\n",
    "\n",
    "\n",
    "m = Marsupial()\n",
    "m.put_in_pouch('doll')\n",
    "m.put_in_pouch('firetruck')\n",
    "m.put_in_pouch('kitten')\n",
    "print(m.pouch_contents()) \n",
    "\n",
    "k = Kangaroo(0, 0)\n",
    "print(k)  \n",
    "k.put_in_pouch('doll')\n",
    "k.put_in_pouch('firetruck')\n",
    "k.put_in_pouch('kitten')\n",
    "print(k.pouch_contents())  \n",
    "k.jump(1, 0)\n",
    "k.jump(1, 0)\n",
    "k.jump(1, 0)\n",
    "print(k)  \n"
   ]
  },
  {
   "cell_type": "code",
   "execution_count": null,
   "id": "160c8743-fbbd-4587-bcdf-e00e07596458",
   "metadata": {},
   "outputs": [],
   "source": [
    "Question 4"
   ]
  },
  {
   "cell_type": "code",
   "execution_count": null,
   "id": "9a2a6497-869f-4ada-ae9a-a0a7e1bb2baf",
   "metadata": {},
   "outputs": [],
   "source": [
    "Write function collatz() that takes a positive integer x as input and prints the Collatz sequence starting at x. A Collatz sequence is obtained by repeatedly applying this rule to the previous number x in the sequence:\n",
    "x = { 𝑥/2 𝑖𝑓 𝑥 𝑖𝑠 𝑒𝑣𝑒𝑛 3𝑥 + 1 𝑖𝑓 𝑥 𝑖𝑠 𝑜𝑑𝑑\n",
    "Your function should stop when the sequence gets to number 1. Your implementation must be recursive, without any loops.\n",
    "\n",
    ">>> collatz(1) 1\n",
    ">>> collatz(10) 10\n",
    "5\n",
    "16\n",
    "8\n",
    "4\n",
    "2\n",
    "1"
   ]
  },
  {
   "cell_type": "code",
   "execution_count": 22,
   "id": "085e791a-cc2d-4312-bba6-c8bf67117bdf",
   "metadata": {},
   "outputs": [
    {
     "name": "stdout",
     "output_type": "stream",
     "text": [
      "1\n",
      "\n",
      "10\n",
      "5\n",
      "16\n",
      "8\n",
      "4\n",
      "2\n",
      "1\n"
     ]
    }
   ],
   "source": [
    "def collatz(x):\n",
    "    print(x)\n",
    "    # Incase of x reaches 1, the recursion stops\n",
    "    if x == 1:\n",
    "        return\n",
    "    # if x is even, divide by 2\n",
    "    elif x % 2 == 0:\n",
    "        collatz(x // 2)\n",
    "    # If x is odd\n",
    "    else:\n",
    "        collatz(3 * x + 1)\n",
    "\n",
    "collatz(1)  \n",
    "print()  # Adding a blank line in output \n",
    "\n",
    "collatz(10)  \n"
   ]
  },
  {
   "cell_type": "code",
   "execution_count": null,
   "id": "a6a99ee2-f67d-4c20-b9bf-b3e14daa3ff8",
   "metadata": {},
   "outputs": [],
   "source": [
    "Question 5"
   ]
  },
  {
   "cell_type": "code",
   "execution_count": null,
   "id": "49674af6-cd1a-4b2b-858a-6a6fd053201a",
   "metadata": {},
   "outputs": [],
   "source": [
    "Write a recursive method binary() that takes a non-negative integer n and prints the binary representation of integer n.\n",
    ">>> binary(0) 0\n",
    ">>> binary(1) 1\n",
    ">>> binary(3) 11\n",
    ">>> binary(9) 1001"
   ]
  },
  {
   "cell_type": "code",
   "execution_count": 25,
   "id": "dd0949c1-5bf9-4cd8-9cda-eef9f8fa0c6c",
   "metadata": {},
   "outputs": [
    {
     "name": "stdout",
     "output_type": "stream",
     "text": [
      "0\n",
      "1\n",
      "11\n",
      "1001\n"
     ]
    }
   ],
   "source": [
    "def binary(n):\n",
    "    if n == 0:\n",
    "        print(0, end='')\n",
    "    elif n == 1:\n",
    "        print(1, end='')\n",
    "    else:\n",
    "        binary(n // 2) \n",
    "        print(n % 2, end='')  # Prints the remainder (either 0 or 1)\n",
    "binary(0)  \n",
    "print()    \n",
    "binary(1)  \n",
    "print()    \n",
    "binary(3)  \n",
    "print()    \n",
    "binary(9)  \n",
    "print()    \n"
   ]
  },
  {
   "cell_type": "code",
   "execution_count": null,
   "id": "577a2f95-f7ba-4085-928c-1990eb5542ed",
   "metadata": {},
   "outputs": [],
   "source": [
    "Question 6"
   ]
  },
  {
   "cell_type": "code",
   "execution_count": null,
   "id": "e19a82e7-568e-46db-a5d9-e1a6b114459b",
   "metadata": {},
   "outputs": [],
   "source": [
    "Implement a class named HeadingParser that can be used to parse an HTML document, and retrieve and print \n",
    "all the headings in the document. You should implement your class as a subclass of HTMLParser, defined in\n",
    "Standard Library module html.parser. When fed a string containing HTML code, your class should print the\n",
    "headings, one per line and in the order in which they appear in the document. Each heading should be\n",
    "indented as follows: an h1 heading should have indentation 0, and h2 heading should have indentation 1, etc. \n",
    "Test your implementation using w3c.html.\n",
    ">>> infile = open('w3c.html')\n",
    ">>> content = infile.read()\n",
    ">>> infile.close()\n",
    ">>> hp = HeadingParser()\n",
    ">>> hp.feed(content) W3C Mission Principles"
   ]
  },
  {
   "cell_type": "code",
   "execution_count": 30,
   "id": "078e8d1a-0e4d-4a94-974e-2c20982099a6",
   "metadata": {},
   "outputs": [
    {
     "name": "stdout",
     "output_type": "stream",
     "text": [
      "W3C Mission\n",
      " Principles\n"
     ]
    }
   ],
   "source": [
    "from html.parser import HTMLParser\n",
    "\n",
    "# Implementing HeadingParser class as a subclass of HTMLParser\n",
    "class HeadingParser(HTMLParser):\n",
    "    def __init__(self):\n",
    "        super().__init__()\n",
    "        self.current_heading = None  \n",
    "\n",
    "    def handle_starttag(self, tag, attrs):\n",
    "        if tag in [\"h1\", \"h2\", \"h3\", \"h4\", \"h5\", \"h6\"]:\n",
    "            self.current_heading = tag\n",
    "\n",
    "    def handle_endtag(self, tag):\n",
    "        if tag in [\"h1\", \"h2\", \"h3\", \"h4\", \"h5\", \"h6\"]:\n",
    "            if self.current_heading == tag:\n",
    "                self.current_heading = None\n",
    "\n",
    "    def handle_data(self, data):\n",
    "        if self.current_heading:\n",
    "            heading_level = int(self.current_heading[1])  \n",
    "            indent = \" \" * (heading_level - 1)  \n",
    "            if data.strip():  # Avoid printing empty lines\n",
    "                print(f\"{indent}{data.strip()}\")\n",
    "\n",
    "# Using the HTML file w3c.html\n",
    "with open('w3c.html', 'r') as infile:\n",
    "    content = infile.read()\n",
    "\n",
    "hp = HeadingParser()\n",
    "hp.feed(content)\n"
   ]
  },
  {
   "cell_type": "code",
   "execution_count": null,
   "id": "c39204de-574a-48e3-92d8-2c68997aa248",
   "metadata": {},
   "outputs": [],
   "source": [
    "Question 7"
   ]
  },
  {
   "cell_type": "code",
   "execution_count": null,
   "id": "e7d42c05-f94b-40da-ad5a-6858d8640cdd",
   "metadata": {},
   "outputs": [],
   "source": [
    "Implement recursive function webdir() that takes as input: a URL (as a string) and non-negative integers depth and indent. Your function should visit every web page reachable from the starting URL web page in depth clicks or less, and print each web page's URL. As shown below, indentation, specified by indent, should be used to indicate the depth of a URL.\n",
    ">>>\n",
    "webdir('http://reed.cs.depaul.edu/lperkovic/csc242/test1.html'\n",
    ", 2, 0)\n",
    "http://reed.cs.depaul.edu/lperkovic/csc242/test1.html http://reed.cs.depaul.edu/lperkovic/csc242/test2.html\n",
    "http://reed.cs.depaul.edu/lperkovic/csc242/test4.html http://reed.cs.depaul.edu/lperkovic/csc242/test3.html\n",
    "http://reed.cs.depaul.edu/lperkovic/csc242/test4.html"
   ]
  },
  {
   "cell_type": "code",
   "execution_count": 52,
   "id": "e3677368-91a8-402e-8a4e-334cea9c7489",
   "metadata": {},
   "outputs": [
    {
     "name": "stdout",
     "output_type": "stream",
     "text": [
      "http://reed.cs.depaul.edu/lperkovic/csc242/test1.html\n"
     ]
    }
   ],
   "source": [
    "import requests\n",
    "from bs4 import BeautifulSoup\n",
    "from urllib.parse import urljoin\n",
    "\n",
    "def webdir(url, depth, indent, visited=None):\n",
    "    if visited is None:\n",
    "        visited = set()\n",
    "\n",
    "    if depth < 0 or url in visited:\n",
    "        return\n",
    "    visited.add(url)\n",
    "    print(\" \" * indent + url)\n",
    "    \n",
    "    try:\n",
    "        response = requests.get(url)\n",
    "        response.raise_for_status()\n",
    "    except requests.RequestException:\n",
    "        return\n",
    "\n",
    "    soup = BeautifulSoup(response.text, 'html.parser')\n",
    "    links = soup.find_all('a', href=True)\n",
    "\n",
    "    for link in links:\n",
    "        href = urljoin(url, link['href'])\n",
    "        webdir(href, depth - 1, indent + 4, visited)\n",
    "\n",
    "webdir('http://reed.cs.depaul.edu/lperkovic/csc242/test1.html', 2, 0)\n"
   ]
  },
  {
   "cell_type": "code",
   "execution_count": null,
   "id": "1ea05207-6cd9-4eba-a043-973cda93e561",
   "metadata": {},
   "outputs": [],
   "source": [
    "Question 8"
   ]
  },
  {
   "cell_type": "code",
   "execution_count": null,
   "id": "896bafd1-5ff1-4c51-b779-efb8b723e5c2",
   "metadata": {},
   "outputs": [],
   "source": [
    "Write SQL queries on the below database table that return:\n",
    "a) All the temperature data.\n",
    "b) All the cities, but without repetition.\n",
    "c) All the records for India.\n",
    "d) All the Fall records.\n",
    "e) The city, country, and season for which the average rainfall is between 200 and 400 millimeters.\n",
    "f) The city and country for which the average Fall temperature is above 20 degrees, in increasing temperature order.\n",
    "g) The total annual rainfall for Cairo.\n",
    "h) The total rainfall for each season."
   ]
  },
  {
   "cell_type": "code",
   "execution_count": 36,
   "id": "5866a68f-2a05-460d-8c5e-66026240a8da",
   "metadata": {},
   "outputs": [
    {
     "name": "stdout",
     "output_type": "stream",
     "text": [
      "[(24.8,), (28.4,), (27.9,), (27.6,), (4.2,), (8.3,), (15.7,), (10.4,), (13.6,), (20.7,), (27.7,), (22.2,)]\n",
      "\n",
      "[('Mumbai',), ('London',), ('Cairo',)]\n",
      "\n",
      "[('Mumbai', 'India', 'Winter', 24.8, 5.9), ('Mumbai', 'India', 'Spring', 28.4, 16.2), ('Mumbai', 'India', 'Summer', 27.9, 1549.4), ('Mumbai', 'India', 'Fall', 27.6, 346.0)]\n",
      "\n",
      "[('Mumbai', 'India', 'Fall', 27.6, 346.0), ('London', 'United Kingdom', 'Fall', 10.4, 218.5), ('Cairo', 'Egypt', 'Fall', 22.2, 4.5)]\n",
      "\n",
      "[('Mumbai', 'India', 'Fall'), ('London', 'United Kingdom', 'Winter'), ('London', 'United Kingdom', 'Fall')]\n",
      "\n",
      "[('Cairo', 'Egypt'), ('Mumbai', 'India')]\n",
      "\n",
      "[('Cairo', 27.6)]\n",
      "\n",
      "[('Fall', 569.0), ('Spring', 192.29999999999998), ('Summer', 1706.5), ('Winter', 230.1)]\n",
      "\n"
     ]
    }
   ],
   "source": [
    "import sqlite3\n",
    "conn = sqlite3.connect(':memory:')\n",
    "cursor = conn.cursor()\n",
    "# CREATION OF TABLE\n",
    "cursor.execute('''\n",
    "CREATE TABLE Weather (\n",
    "    City TEXT,\n",
    "    Country TEXT,\n",
    "    Season TEXT,\n",
    "    Temperature REAL,\n",
    "    Rainfall REAL\n",
    ")\n",
    "''')\n",
    "\n",
    "# INSERTING DATA INTO TABLE\n",
    "data = [\n",
    "    ('Mumbai', 'India', 'Winter', 24.8, 5.9),\n",
    "    ('Mumbai', 'India', 'Spring', 28.4, 16.2),\n",
    "    ('Mumbai', 'India', 'Summer', 27.9, 1549.4),\n",
    "    ('Mumbai', 'India', 'Fall', 27.6, 346.0),\n",
    "    ('London', 'United Kingdom', 'Winter', 4.2, 207.7),\n",
    "    ('London', 'United Kingdom', 'Spring', 8.3, 169.6),\n",
    "    ('London', 'United Kingdom', 'Summer', 15.7, 157.0),\n",
    "    ('London', 'United Kingdom', 'Fall', 10.4, 218.5),\n",
    "    ('Cairo', 'Egypt', 'Winter', 13.6, 16.5),\n",
    "    ('Cairo', 'Egypt', 'Spring', 20.7, 6.5),\n",
    "    ('Cairo', 'Egypt', 'Summer', 27.7, 0.1),\n",
    "    ('Cairo', 'Egypt', 'Fall', 22.2, 4.5)\n",
    "]\n",
    "\n",
    "cursor.executemany('INSERT INTO Weather VALUES (?, ?, ?, ?, ?)', data)\n",
    "conn.commit()\n",
    "\n",
    "\n",
    "# a) All the temperature data\n",
    "cursor.execute('SELECT Temperature FROM Weather')\n",
    "print(cursor.fetchall(), end=\"\\n\\n\")\n",
    "\n",
    "# b) All the cities, but without repetition\n",
    "cursor.execute('SELECT DISTINCT City FROM Weather')\n",
    "print(cursor.fetchall(), end=\"\\n\\n\")\n",
    "\n",
    "# c) All the records for India\n",
    "cursor.execute(\"SELECT * FROM Weather WHERE Country = 'India'\")\n",
    "print(cursor.fetchall(), end=\"\\n\\n\")\n",
    "\n",
    "# d) All the Fall records\n",
    "cursor.execute(\"SELECT * FROM Weather WHERE Season = 'Fall'\")\n",
    "print(cursor.fetchall(), end=\"\\n\\n\")\n",
    "\n",
    "# e) The city, country, and season for which the average rainfall is between 200 and 400 millimeters\n",
    "cursor.execute(\"SELECT City, Country, Season FROM Weather WHERE Rainfall BETWEEN 200 AND 400\")\n",
    "print(cursor.fetchall(), end=\"\\n\\n\")\n",
    "\n",
    "# f) The city and country for which the average Fall temperature is above 20 degrees, in increasing temperature order\n",
    "cursor.execute(\"SELECT City, Country FROM Weather WHERE Season = 'Fall' AND Temperature > 20 ORDER BY Temperature ASC\")\n",
    "print(cursor.fetchall(), end=\"\\n\\n\")\n",
    "\n",
    "# g) The total annual rainfall for Cairo\n",
    "cursor.execute(\"SELECT City, SUM(Rainfall) AS Total_Annual_Rainfall FROM Weather WHERE City = 'Cairo' GROUP BY City\")\n",
    "print(cursor.fetchall(), end=\"\\n\\n\")\n",
    "\n",
    "# h) The total rainfall for each season\n",
    "cursor.execute(\"SELECT Season, SUM(Rainfall) AS Total_Rainfall FROM Weather GROUP BY Season\")\n",
    "print(cursor.fetchall(), end=\"\\n\\n\")\n",
    "\n",
    "conn.close()\n"
   ]
  },
  {
   "cell_type": "code",
   "execution_count": null,
   "id": "03427b58-042c-400d-a3d5-8747640ca295",
   "metadata": {},
   "outputs": [],
   "source": [
    "Question 9"
   ]
  },
  {
   "cell_type": "code",
   "execution_count": null,
   "id": "67bafa8a-8d34-4808-98ff-c51e97fabaaf",
   "metadata": {},
   "outputs": [],
   "source": [
    ". Suppose list words is defined as follows:\n",
    ">>> words = ['The', 'quick', 'brown', 'fox', 'jumps', 'over', 'the', 'lazy', 'dog']\n",
    "Write list comprehension expressions that use list words and generate the following lists:\n",
    "a) ['THE', 'QUICK', 'BROWN', 'FOX', 'JUMPS', 'OVER', 'THE', 'LAZY', 'DOG']\n",
    "b) ['the', 'quick', 'brown', 'fox', 'jumps', 'over', 'the', 'lazy', 'dog']\n",
    "c) [3, 5, 5, 3, 5, 4, 3, 4, 3] (the list of lengths of words in list\n",
    "words).\n",
    "d) [['THE', 'the', 3], ['QUICK', 'quick', 5], ['BROWN',\n",
    "'brown', 5], ['FOX', 'fox', 3], ['JUMPS', 'jumps', 5],\n",
    "['OVER', 'over', 4], ['THE', 'the', 3], ['LAZY', 'lazy',\n",
    "4], ['DOG', 'dog', 3]] (the list containing a list for every word of list words, where each list contains the word in uppercase and lowercase and the length of the word.)\n",
    "e) ['The', 'quick', 'brown', 'fox', 'jumps', 'over', 'the', 'lazy', 'dog']"
   ]
  },
  {
   "cell_type": "code",
   "execution_count": 37,
   "id": "59a3f968-c095-420f-80fa-6c16b4f4a4c2",
   "metadata": {},
   "outputs": [],
   "source": [
    "words = ['The', 'quick', 'brown', 'fox', 'jumps', 'over', 'the', 'lazy', 'dog']\n",
    "\n",
    "# a) ['THE', 'QUICK', 'BROWN', 'FOX', 'JUMPS', 'OVER', 'THE', 'LAZY', 'DOG']\n",
    "uppercase_words = [word.upper() for word in words]\n",
    "\n",
    "# b) ['the', 'quick', 'brown', 'fox', 'jumps', 'over', 'the', 'lazy', 'dog']\n",
    "lowercase_words = [word.lower() for word in words]\n",
    "\n",
    "# c) [3, 5, 5, 3, 5, 4, 3, 4, 3] (the list of lengths of words in list words)\n",
    "word_lengths = [len(word) for word in words]\n",
    "\n",
    "# d) [['THE', 'the', 3], ['QUICK', 'quick', 5], ['BROWN', 'brown', 5], ['FOX', 'fox', 3], ['JUMPS', 'jumps', 5], ['OVER', 'over', 4], ['THE', 'the', 3], ['LAZY', 'lazy', 4], ['DOG', 'dog', 3]]\n",
    "word_details = [[word.upper(), word.lower(), len(word)] for word in words]\n",
    "\n",
    "# e) ['quick', 'brown', 'jumps', 'over', 'lazy'] (the list of words in list words containing 4 or more characters)\n",
    "words_with_4_or_more = [word for word in words if len(word) >= 4]\n"
   ]
  }
 ],
 "metadata": {
  "kernelspec": {
   "display_name": "Python 3 (ipykernel)",
   "language": "python",
   "name": "python3"
  },
  "language_info": {
   "codemirror_mode": {
    "name": "ipython",
    "version": 3
   },
   "file_extension": ".py",
   "mimetype": "text/x-python",
   "name": "python",
   "nbconvert_exporter": "python",
   "pygments_lexer": "ipython3",
   "version": "3.12.4"
  }
 },
 "nbformat": 4,
 "nbformat_minor": 5
}
